{
 "cells": [
  {
   "cell_type": "code",
   "execution_count": 10,
   "metadata": {},
   "outputs": [],
   "source": [
    "import sys\n",
    "sys.path.append('..')\n",
    "import configparser\n",
    "import requests\n",
    "from datetime import datetime\n",
    "import json\n",
    "import os\n",
    "from src.utility import setup_logger, fetch_config\n",
    "import pandas as pd\n",
    "import time\n",
    "from src.api_extarction import GuardianAPI\n",
    "\n",
    "config, config_path = fetch_config() \n",
    "GUARDIAN_API_KEY = config.get('guardian_api', 'api_key')\n",
    "logger = setup_logger(__name__)"
   ]
  },
  {
   "cell_type": "code",
   "execution_count": 11,
   "metadata": {},
   "outputs": [],
   "source": [
    "def guardian_search(search_query, from_date, to_date, api_key, max_retries=3, retry_delay=5):\n",
    "    url = 'http://content.guardianapis.com/search'\n",
    "    session = requests.Session()  # Using session for connection pooling\n",
    "    params = {\n",
    "        'q': search_query,\n",
    "        'from-date': from_date,\n",
    "        'to-date': to_date,\n",
    "        'page-size': 100,\n",
    "        'api-key': api_key,\n",
    "        'show-fields': 'headline,byline,sectionName,webPublicationDate'\n",
    "    }\n",
    "    all_results = []\n",
    "    current_page = 1\n",
    "    total_pages = 1\n",
    "    retry_count = 0\n",
    "\n",
    "    while current_page <= total_pages:\n",
    "        params['page'] = current_page\n",
    "        response = session.get(url, params=params)\n",
    "        \n",
    "        if response.status_code == 200:\n",
    "            data = response.json()\n",
    "            all_results.extend(data['response']['results'])\n",
    "            total_pages = data['response']['pages']\n",
    "            print(f\"Processed page {current_page}/{total_pages}. Total results so far: {len(all_results)}.\")\n",
    "            current_page += 1\n",
    "            retry_count = 0  # Reset retry count after a successful request\n",
    "        else:\n",
    "            print(f\"Error {response.status_code}: {response.text}\")\n",
    "            retry_count += 1\n",
    "            if retry_count <= max_retries:\n",
    "                time.sleep(retry_delay * retry_count)  # Exponential back-off\n",
    "            else:\n",
    "                print(\"Max retries reached. Stopping.\")\n",
    "                break \n",
    "\n",
    "    return all_results\n",
    "\n",
    "def convert_to_dataframe(api_results):\n",
    "    try:\n",
    "        if 'response' in api_results and 'results' in api_results['response']:\n",
    "            results = api_results['response']['results']\n",
    "            df = pd.DataFrame(results)\n",
    "            print(f\"Converted data to DataFrame with {len(df)} rows and {len(df.columns)} columns\")\n",
    "            return df\n",
    "        else:\n",
    "            print(\"No results found or incorrect JSON format\")\n",
    "            return pd.DataFrame()\n",
    "    except Exception as e:\n",
    "        print(f\"Error processing data into DataFrame: {e}\")\n",
    "        return pd.DataFrame()"
   ]
  },
  {
   "cell_type": "code",
   "execution_count": 13,
   "metadata": {},
   "outputs": [],
   "source": [
    "def convert_to_dataframe(api_results, filter_query=\"Justin Trudeau\"):\n",
    "    try:\n",
    "        if 'response' in api_results and 'results' in api_results['response']:\n",
    "            results = api_results['response']['results']\n",
    "            \n",
    "            # Filter results based on the filter_query\n",
    "            filtered_results = [\n",
    "                result for result in results\n",
    "                if filter_query.lower() in result.get('webTitle', '').lower()\n",
    "                or filter_query.lower() in result.get('fields', {}).get('headline', '').lower()\n",
    "            ]\n",
    "            \n",
    "            df = pd.DataFrame(filtered_results)\n",
    "            print(f\"Converted data to DataFrame with {len(df)} rows and {len(df.columns)} columns\")\n",
    "            print(f\"Filtered data for '{filter_query}': {len(df)} rows\")\n",
    "            return df\n",
    "        else:\n",
    "            print(\"No results found or incorrect JSON format\")\n",
    "            return pd.DataFrame()\n",
    "    except Exception as e:\n",
    "        print(f\"Error processing data into DataFrame: {e}\")\n",
    "        return pd.DataFrame()"
   ]
  },
  {
   "cell_type": "code",
   "execution_count": 12,
   "metadata": {},
   "outputs": [
    {
     "name": "stdout",
     "output_type": "stream",
     "text": [
      "Error 429: {\n",
      "  \"message\":\"API rate limit exceeded\"\n",
      "}\n",
      "Error 429: {\n",
      "  \"message\":\"API rate limit exceeded\"\n",
      "}\n",
      "Error 429: {\n",
      "  \"message\":\"API rate limit exceeded\"\n",
      "}\n",
      "Error 429: {\n",
      "  \"message\":\"API rate limit exceeded\"\n",
      "}\n",
      "Max retries reached. Stopping.\n"
     ]
    }
   ],
   "source": [
    "search_query = \"Justin Trudeau\"\n",
    "from_date = \"2018-01-01\"\n",
    "to_date = datetime.now().strftime(\"%Y-%m-%d\")\n",
    "GUARDIAN_API_KEY = config.get('guardian_api', 'api_key')\n",
    "api_key = GUARDIAN_API_KEY\n",
    "articles2 = guardian_search(search_query, from_date, to_date, api_key)\n",
    "\n",
    "2227ca4a-5a23-4f3d-a35b-c7f28638f4ba"
   ]
  }
 ],
 "metadata": {
  "kernelspec": {
   "display_name": "Python 3",
   "language": "python",
   "name": "python3"
  },
  "language_info": {
   "codemirror_mode": {
    "name": "ipython",
    "version": 3
   },
   "file_extension": ".py",
   "mimetype": "text/x-python",
   "name": "python",
   "nbconvert_exporter": "python",
   "pygments_lexer": "ipython3",
   "version": "3.10.14"
  }
 },
 "nbformat": 4,
 "nbformat_minor": 2
}
